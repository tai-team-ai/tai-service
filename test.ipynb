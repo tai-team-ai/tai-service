{
 "cells": [
  {
   "cell_type": "code",
   "execution_count": 1,
   "metadata": {},
   "outputs": [
    {
     "ename": "TypeError",
     "evalue": "'int' object is not iterable",
     "output_type": "error",
     "traceback": [
      "\u001b[0;31m---------------------------------------------------------------------------\u001b[0m",
      "\u001b[0;31mTypeError\u001b[0m                                 Traceback (most recent call last)",
      "Cell \u001b[0;32mIn[1], line 2\u001b[0m\n\u001b[1;32m      1\u001b[0m x \u001b[39m=\u001b[39m []\n\u001b[0;32m----> 2\u001b[0m x \u001b[39m+\u001b[39m\u001b[39m=\u001b[39m \u001b[39m1\u001b[39m\n",
      "\u001b[0;31mTypeError\u001b[0m: 'int' object is not iterable"
     ]
    }
   ],
   "source": [
    "x = []\n",
    "x += 1"
   ]
  },
  {
   "cell_type": "code",
   "execution_count": 29,
   "metadata": {},
   "outputs": [
    {
     "name": "stdout",
     "output_type": "stream",
     "text": [
      "You are a friendly tutor named Finn that works for T.A.I. As Finn, you are extremely positive, conversational, and outgoing. You are to be a good listener and ask how you can help and be there for them. You MUST get to know them as a human being and understand their needs in order to be successful. To do this, you need to ask questions to understand the user as best as possible. If a student asks for help, you should NOT give the student answers or solve the problem for them. Instead, you should help them understand the material and guide them to the answer step by step. Each step you send should be in it's own message and not all in the same message. For example, if the student asks for help, you could ask them what they have tried so far and suggest what they should try next. You should progressively give more information to the student until they understand the material and not give them all in one message. The user has requested that you use responses with a technical level of a high school student to help the understand the material. Remember, you should explain things in a way that a high school student would understand. Most importantly, you are not to give the student answers even if they ask for them, however, you can give them hints.\n",
      "You are a friendly tutor named Kai that works for T.A.I. As Kai, you are straightforward and use minimal fluffy language. You are to be a good listener and ask how you can help and be there for them. You MUST get to know them as a human being and understand their needs in order to be successful. To do this, you need to ask questions to understand the user as best as possible. If a student asks for help, you should NOT give the student answers or solve the problem for them. Instead, you should help them understand the material and guide them to the answer step by step. Each step you send should be in it's own message and not all in the same message. For example, if the student asks for help, you could ask them what they have tried so far and suggest what they should try next. You should progressively give more information to the student until they understand the material and not give them all in one message. The user has requested that you use responses with a technical level of a expert in the field to help the understand the material. Remember, you should explain things in a way that a expert in the field would understand. Most importantly, you are not to give the student answers even if they ask for them, however, you can give them hints.\n"
     ]
    }
   ],
   "source": [
    "from textwrap import dedent\n",
    "BASE_SYSTEM_MESSAGE = dedent(\"\"\"\\\n",
    "You are a friendly tutor named {name} that works for T.A.I. As {name}, {persona}. \\\n",
    "You are to be a good listener and ask how you can help the student and be there for them. \\\n",
    "You MUST get to know them as a human being and understand their needs in order to be successful. \\\n",
    "To do this, you need to ask questions to understand the student as best as possible. \\\n",
    "If a student asks for help, you should NOT give the student answers or solve the problem for them. \\\n",
    "Instead, you should help them understand the material and guide them to the answer step by step. \\\n",
    "Each step you send should be in it's own message and not all in the same message. \\\n",
    "For example, if the student asks for help, you could ask them what they have tried so far and suggest what they should try next. \\\n",
    "You should progressively give more information to the student until they understand the material and not give them all in one message. \\\n",
    "The student has requested that you use responses with a technical level of a {technical_level} to help the understand the material. \\\n",
    "Remember, you should explain things in a way that a {technical_level} would understand. \\\n",
    "Most importantly, you are not to give the student answers even if they ask for them, however, you can give them hints.\\\n",
    "\"\"\")\n",
    "\n",
    "print(BASE_SYSTEM_MESSAGE.format(name=\"Finn\", persona=\"you are extremely positive, conversational, and outgoing\", technical_level=\"high school student\"))\n",
    "print(BASE_SYSTEM_MESSAGE.format(name=\"Kai\", persona=\"you are straightforward and use minimal fluffy language\", technical_level=\"expert in the field\"))"
   ]
  },
  {
   "cell_type": "code",
   "execution_count": 30,
   "metadata": {},
   "outputs": [],
   "source": [
    "x = [1, 2, 3]\n",
    "x.insert(0, 0)"
   ]
  },
  {
   "cell_type": "code",
   "execution_count": 1,
   "metadata": {},
   "outputs": [],
   "source": [
    "from typing import Dict, Union\n",
    "import boto3\n",
    "import json\n",
    "from botocore.config import Config as BotoConfig\n",
    "from botocore.exceptions import ClientError\n",
    "from loguru import logger\n",
    "\n",
    "\n",
    "def get_secret(secret_name: str) -> Union[Dict[str, str], str]:\n",
    "    logger.info(f\"Retrieving secret {secret_name}\")\n",
    "    session = boto3.session.Session()\n",
    "    boto_config = BotoConfig(\n",
    "        connect_timeout=10,\n",
    "        retries={\n",
    "            \"max_attempts\": 3,\n",
    "            \"mode\":\"standard\"\n",
    "        }\n",
    "    )\n",
    "    client = session.client(\n",
    "        service_name='secretsmanager',\n",
    "        config=boto_config,\n",
    "        region_name='us-east-1',\n",
    "    )\n",
    "    try:\n",
    "        logger.info(f\"{secret_name}\")\n",
    "        response = client.get_secret_value(\n",
    "            SecretId=secret_name\n",
    "        )\n",
    "    except ClientError as e:\n",
    "        raise e\n",
    "    secret_string = response[\"SecretString\"]\n",
    "    try:\n",
    "        return json.loads(secret_string)\n",
    "    except json.JSONDecodeError:\n",
    "        return secret_string"
   ]
  },
  {
   "cell_type": "code",
   "execution_count": 3,
   "metadata": {},
   "outputs": [
    {
     "name": "stderr",
     "output_type": "stream",
     "text": [
      "\u001b[32m2023-07-25 07:33:55.081\u001b[0m | \u001b[1mINFO    \u001b[0m | \u001b[36m__main__\u001b[0m:\u001b[36mget_secret\u001b[0m:\u001b[36m10\u001b[0m - \u001b[1mRetrieving secret dev/tai_service/openai/api_key\u001b[0m\n",
      "\u001b[32m2023-07-25 07:33:55.246\u001b[0m | \u001b[1mINFO    \u001b[0m | \u001b[36m__main__\u001b[0m:\u001b[36mget_secret\u001b[0m:\u001b[36m25\u001b[0m - \u001b[1mdev/tai_service/openai/api_key\u001b[0m\n"
     ]
    },
    {
     "name": "stdout",
     "output_type": "stream",
     "text": [
      "Can you help me understand limits?\n",
      "How do I determine the end behavior of polynomial functions?\n",
      "Can you explain logarithmic equations and their properties?\n",
      "How does the unit circle relate to trigonometric functions?\n",
      "Can you explain matrix operations (addition, subtraction, multiplication)?\n",
      "What are conic sections and how do they work?\n",
      "Can you provide a step-by-step explanation of logarithmic differentiation?\n",
      "What are sequences and series and how do they relate?\n",
      "How do I graph rational functions?\n",
      "Can you clarify the concept of exponential growth?\n"
     ]
    }
   ],
   "source": [
    "from taiservice.api.taibackend.taitutors.llm import TaiLLM, ChatOpenAIConfig\n",
    "\n",
    "config = ChatOpenAIConfig(api_key=get_secret(\"dev/tai_service/openai/api_key\"))\n",
    "llm = TaiLLM(config=config)\n",
    "student_messages = [\n",
    "    \"I'm having trouble understanding the concept of limits. Can you help me out?\",\n",
    "    \"Sure! I can explain limits to you. Let's start with the intuition behind it and then work through some examples.\",\n",
    "    \"I'm struggling with identifying the end behavior of polynomial functions. Can you guide me through it?\",\n",
    "    \"Definitely! I can help you understand how to determine the end behavior of polynomial functions and provide examples to illustrate the concept.\",\n",
    "    \"I need help understanding logarithmic equations and their properties. Can you provide some guidance?\",\n",
    "    \"Yes, of course! Logarithmic equations can be challenging, but I'll explain the properties and methods for solving them.\",\n",
    "    \"I'm struggling with understanding the unit circle and its relationship with trigonometric functions. Can you help clarify?\",\n",
    "    \"Absolutely! Let's dive into the unit circle together and discuss how it relates to trigonometric functions.\",\n",
    "    \"I need assistance with matrix operations. Can you explain how to add, subtract, and multiply matrices?\",\n",
    "    \"Sure! Matrix operations can be complicated, but I'll explain the processes step-by-step and give you some practice problems.\",\n",
    "    \"I'm having a hard time understanding the concept of conic sections. Can you explain them to me?\",\n",
    "    \"Definitely! Conic sections can be a bit abstract, but I'll break down each type (circle, ellipse, hyperbola, parabola) and make them more understandable.\",\n",
    "    \"I'm struggling with the concept of logarithmic differentiation. Can you provide a step-by-step explanation?\",\n",
    "    \"Absolutely! Logarithmic differentiation can be a bit challenging, but I'll guide you through the steps and show you examples.\",\n",
    "    \"I need help understanding the concept of sequences and series. Can you explain them to me?\",\n",
    "    \"Yes, of course! Sequences and series can be complex, but I'll start with the basics and gradually introduce more advanced topics.\",\n",
    "    \"I'm having difficulty with graphing rational functions. Can you provide some guidance?\",\n",
    "    \"Definitely! Graphing rational functions can be challenging, but I'll explain the process and provide tips to make it easier.\",\n",
    "    \"I'm struggling with understanding the concept of exponential growth. Can you provide a detailed explanation?\",\n",
    "    \"Yes, I can help with that! Exponential growth can be a bit tricky, but I'll break it down and give you examples to clarify the concept.\",\n",
    "    \"I need assistance with solving limits involving indeterminate forms. Can you guide me through the steps?\",\n",
    "    \"Sure! Solving limits with indeterminate forms can be challenging, but I'll walk you through the strategies and techniques involved.\",\n",
    "    \"I'm having a hard time understanding the concept of one-sided limits. Can you explain them to me?\",\n",
    "    \"Absolutely! One-sided limits can seem confusing at first, but I'll explain them in detail and provide examples to solidify the understanding.\",\n",
    "    \"I'm struggling with determining limits at infinity. Can you provide some clarification on how to approach these problems?\",\n",
    "    \"Definitely! Limits at infinity can be challenging, but I'll explain the methods and techniques for tackling these types of problems.\",\n",
    "    \"I need help understanding the properties of exponential growth functions. Can you provide an overview?\",\n",
    "    \"Yes, of course! Understanding the properties of exponential growth functions can be tricky, but I'll go through them step-by-step and provide examples.\",\n",
    "    \"I'm having difficulty with solving exponential growth models. Can you guide me through the process?\",\n",
    "    \"Sure! Solving exponential growth models can be complex, but I'll break down the steps for you and show you how to approach these problems.\",\n",
    "    \"I'm struggling with understanding the concept of population growth and how it relates to exponential functions. Can you explain it in detail?\",\n",
    "    \"Absolutely! Population growth and its connection to exponential functions can be complicated, but I'll provide a thorough explanation and examples to illustrate the concept.\",\n",
    "    \"I need assistance with determining growth rates and decay rates in exponential functions. Can you walk me through it?\",\n",
    "    \"Yes, of course! The process of determining growth rates and decay rates in exponential functions can be confusing, but I'll explain it in a clear and concise manner.\",\n",
    "    \"I'm having a hard time understanding the concept of half-life in exponential decay. Can you provide a detailed explanation?\",\n",
    "    \"Definitely! The concept of half-life in exponential decay can be challenging, but I'll break it down and give you examples to enhance your understanding.\",\n",
    "    \"I'm having trouble understanding the concept of limits. Can you help me out?\",\n",
    "    \"Sure! I can explain limits to you. Let's start with the intuition behind it and then work through some examples.\",\n",
    "    \"I'm struggling with identifying the end behavior of polynomial functions. Can you guide me through it?\",\n",
    "    \"Definitely! I can help you understand how to determine the end behavior of polynomial functions and provide examples to illustrate the concept.\",\n",
    "    \"I need help understanding logarithmic equations and their properties. Can you provide some guidance?\",\n",
    "    \"Yes, of course! Logarithmic equations can be challenging, but I'll explain the properties and methods for solving them.\",\n",
    "    \"I'm struggling with understanding the unit circle and its relationship with trigonometric functions. Can you help clarify?\",\n",
    "    \"Absolutely! Let's dive into the unit circle together and discuss how it relates to trigonometric functions.\",\n",
    "    \"I need assistance with matrix operations. Can you explain how to add, subtract, and multiply matrices?\",\n",
    "    \"Sure! Matrix operations can be complicated, but I'll explain the processes step-by-step and give you some practice problems.\",\n",
    "    \"I'm having a hard time understanding the concept of conic sections. Can you explain them to me?\",\n",
    "    \"Definitely! Conic sections can be a bit abstract, but I'll break down each type (circle, ellipse, hyperbola, parabola) and make them more understandable.\",\n",
    "    \"I'm struggling with the concept of logarithmic differentiation. Can you provide a step-by-step explanation?\",\n",
    "    \"Absolutely! Logarithmic differentiation can be a bit challenging, but I'll guide you through the steps and show you examples.\",\n",
    "    \"I need help understanding the concept of sequences and series. Can you explain them to me?\",\n",
    "    \"Yes, of course! Sequences and series can be complex, but I'll start with the basics and gradually introduce more advanced topics.\",\n",
    "    \"I'm having difficulty with graphing rational functions. Can you provide some guidance?\",\n",
    "    \"Definitely! Graphing rational functions can be challenging, but I'll explain the process and provide tips to make it easier.\",\n",
    "    \"I'm struggling with understanding the concept of exponential growth. Can you provide a detailed explanation?\",\n",
    "    \"Yes, I can help with that! Exponential growth can be a bit tricky, but I'll break it down and give you examples to clarify the concept.\",\n",
    "    \"I need assistance with solving limits involving indeterminate forms. Can you guide me through the steps?\",\n",
    "    \"Sure! Solving limits with indeterminate forms can be challenging, but I'll walk you through the strategies and techniques involved.\",\n",
    "    \"I'm having a hard time understanding the concept of one-sided limits. Can you explain them to me?\",\n",
    "    \"Absolutely! One-sided limits can seem confusing at first, but I'll explain them in detail and provide examples to solidify the understanding.\",\n",
    "    \"I'm struggling with determining limits at infinity. Can you provide some clarification on how to approach these problems?\",\n",
    "    \"Definitely! Limits at infinity can be challenging, but I'll explain the methods and techniques for tackling these types of problems.\",\n",
    "    \"I need help understanding the properties of exponential growth functions. Can you provide an overview?\",\n",
    "    \"Yes, of course! Understanding the properties of exponential growth functions can be tricky, but I'll go through them step-by-step and provide examples.\",\n",
    "    \"I'm having difficulty with solving exponential growth models. Can you guide me through the process?\",\n",
    "    \"Sure! Solving exponential growth models can be complex, but I'll break down the steps for you and show you how to approach these problems.\",\n",
    "    \"I'm struggling with understanding the concept of population growth and how it relates to exponential functions. Can you explain it in detail?\",\n",
    "    \"Absolutely! Population growth and its connection to exponential functions can be complicated, but I'll provide a thorough explanation and examples to illustrate the concept.\",\n",
    "    \"I need assistance with determining growth rates and decay rates in exponential functions. Can you walk me through it?\",\n",
    "    \"Yes, of course! The process of determining growth rates and decay rates in exponential functions can be confusing, but I'll explain it in a clear and concise manner.\",\n",
    "    \"I'm having a hard time understanding the concept of half-life in exponential decay. Can you provide a detailed explanation?\",\n",
    "    \"Definitely! The concept of half-life in exponential decay can be challenging, but I'll break it down and give you examples to enhance your understanding.\",\n",
    "    \"I'm having trouble understanding the concept of limits. Can you help me out?\",\n",
    "    \"Sure! I can explain limits to you. Let's start with the intuition behind it and then work through some examples.\",\n",
    "    \"I'm struggling with identifying the end behavior of polynomial functions. Can you guide me through it?\",\n",
    "    \"Definitely! I can help you understand how to determine the end behavior of polynomial functions and provide examples to illustrate the concept.\",\n",
    "    \"I need help understanding logarithmic equations and their properties. Can you provide some guidance?\",\n",
    "    \"Yes, of course! Logarithmic equations can be challenging, but I'll explain the properties and methods for solving them.\",\n",
    "    \"I'm struggling with understanding the unit circle and its relationship with trigonometric functions. Can you help clarify?\",\n",
    "    \"Absolutely! Let's dive into the unit circle together and discuss how it relates to trigonometric functions.\",\n",
    "    \"I need assistance with matrix operations. Can you explain how to add, subtract, and multiply matrices?\",\n",
    "    \"Sure! Matrix operations can be complicated, but I'll explain the processes step-by-step and give you some practice problems.\",\n",
    "    \"I'm having a hard time understanding the concept of conic sections. Can you explain them to me?\",\n",
    "    \"Definitely! Conic sections can be a bit abstract, but I'll break down each type (circle, ellipse, hyperbola, parabola) and make them more understandable.\",\n",
    "    \"I'm struggling with the concept of logarithmic differentiation. Can you provide a step-by-step explanation?\",\n",
    "    \"Absolutely! Logarithmic differentiation can be a bit challenging, but I'll guide you through the steps and show you examples.\",\n",
    "    \"I need help understanding the concept of sequences and series. Can you explain them to me?\",\n",
    "    \"Yes, of course! Sequences and series can be complex, but I'll start with the basics and gradually introduce more advanced topics.\",\n",
    "    \"I'm having difficulty with graphing rational functions. Can you provide some guidance?\",\n",
    "    \"Definitely! Graphing rational functions can be challenging, but I'll explain the process and provide tips to make it easier.\",\n",
    "    \"I'm struggling with understanding the concept of exponential growth. Can you provide a detailed explanation?\",\n",
    "    \"Yes, I can help with that! Exponential growth can be a bit tricky, but I'll break it down and give you examples to clarify the concept.\",\n",
    "    \"I need assistance with solving limits involving indeterminate forms. Can you guide me through the steps?\",\n",
    "    \"Sure! Solving limits with indeterminate forms can be challenging, but I'll walk you through the strategies and techniques involved.\",\n",
    "    \"I'm having a hard time understanding the concept of one-sided limits. Can you explain them to me?\",\n",
    "    \"Absolutely! One-sided limits can seem confusing at first, but I'll explain them in detail and provide examples to solidify the understanding.\",\n",
    "    \"I'm struggling with determining limits at infinity. Can you provide some clarification on how to approach these problems?\",\n",
    "    \"Definitely! Limits at infinity can be challenging, but I'll explain the methods and techniques for tackling these types of problems.\",\n",
    "    \"I need help understanding the properties of exponential growth functions. Can you provide an overview?\",\n",
    "    \"Yes, of course! Understanding the properties of exponential growth functions can be tricky, but I'll go through them step-by-step and provide examples.\",\n",
    "    \"I'm having difficulty with solving exponential growth models. Can you guide me through the process?\",\n",
    "    \"Sure! Solving exponential growth models can be complex, but I'll break down the steps for you and show you how to approach these problems.\",\n",
    "    \"I'm struggling with understanding the concept of population growth and how it relates to exponential functions. Can you explain it in detail?\",\n",
    "    \"Absolutely! Population growth and its connection to exponential functions can be complicated, but I'll provide a thorough explanation and examples to illustrate the concept.\",\n",
    "    \"I need assistance with determining growth rates and decay rates in exponential functions. Can you walk me through it?\",\n",
    "    \"Yes, of course! The process of determining growth rates and decay rates in exponential functions can be confusing, but I'll explain it in a clear and concise manner.\",\n",
    "    \"I'm having a hard time understanding the concept of half-life in exponential decay. Can you provide a detailed explanation?\",\n",
    "    \"Definitely! The concept of half-life in exponential decay can be challenging, but I'll break it down and give you examples to enhance your understanding.\"\n",
    "]\n",
    "topics = llm.summarize_student_messages(messages=student_messages, as_questions=True)\n",
    "for topic in topics:\n",
    "    print(topic)"
   ]
  },
  {
   "cell_type": "code",
   "execution_count": 13,
   "metadata": {},
   "outputs": [
    {
     "name": "stdout",
     "output_type": "stream",
     "text": [
      "\n",
      "Hi there! I'sdfiosaf    i\n",
      "\n"
     ]
    }
   ],
   "source": [
    "# import dedent\n",
    "from textwrap import dedent\n",
    "\n",
    "def print_test():\n",
    "    text = dedent(\n",
    "    \"\"\"\n",
    "    Hi there! I'sdfiosaf\\\n",
    "    i\n",
    "    \"\"\"\n",
    "    )\n",
    "    return text\n",
    "print(print_test())"
   ]
  },
  {
   "cell_type": "code",
   "execution_count": null,
   "metadata": {},
   "outputs": [],
   "source": []
  }
 ],
 "metadata": {
  "kernelspec": {
   "display_name": ".env",
   "language": "python",
   "name": "python3"
  },
  "language_info": {
   "codemirror_mode": {
    "name": "ipython",
    "version": 3
   },
   "file_extension": ".py",
   "mimetype": "text/x-python",
   "name": "python",
   "nbconvert_exporter": "python",
   "pygments_lexer": "ipython3",
   "version": "3.10.10"
  },
  "orig_nbformat": 4
 },
 "nbformat": 4,
 "nbformat_minor": 2
}
