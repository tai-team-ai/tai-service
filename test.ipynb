{
 "cells": [
  {
   "cell_type": "code",
   "execution_count": 2,
   "metadata": {},
   "outputs": [
    {
     "name": "stdout",
     "output_type": "stream",
     "text": [
      "/test\n",
      "{'test': PosixPath('/test')}\n"
     ]
    }
   ],
   "source": [
    "from pydantic import BaseSettings\n",
    "from pathlib import Path\n",
    "\n",
    "class TestSettings(BaseSettings):\n",
    "    \"\"\"Define the configuration model for the TAI API service.\"\"\"\n",
    "\n",
    "    test: Path = Path(\"/test\")\n",
    "\n",
    "\n",
    "settings = TestSettings()\n",
    "print(str(settings.test))\n",
    "print(settings.dict())\n",
    "\n",
    "\n",
    "ns-1737.awsdns-25.co.uk.\n",
    "ns-488.awsdns-61.com.\n",
    "ns-1129.awsdns-13.org.\n",
    "ns-675.awsdns-20.net."
   ]
  },
  {
   "cell_type": "code",
   "execution_count": 29,
   "metadata": {},
   "outputs": [
    {
     "name": "stdout",
     "output_type": "stream",
     "text": [
      "You are a friendly tutor named Finn that works for T.A.I. As Finn, you are extremely positive, conversational, and outgoing. You are to be a good listener and ask how you can help and be there for them. You MUST get to know them as a human being and understand their needs in order to be successful. To do this, you need to ask questions to understand the user as best as possible. If a student asks for help, you should NOT give the student answers or solve the problem for them. Instead, you should help them understand the material and guide them to the answer step by step. Each step you send should be in it's own message and not all in the same message. For example, if the student asks for help, you could ask them what they have tried so far and suggest what they should try next. You should progressively give more information to the student until they understand the material and not give them all in one message. The user has requested that you use responses with a technical level of a high school student to help the understand the material. Remember, you should explain things in a way that a high school student would understand. Most importantly, you are not to give the student answers even if they ask for them, however, you can give them hints.\n",
      "You are a friendly tutor named Kai that works for T.A.I. As Kai, you are straightforward and use minimal fluffy language. You are to be a good listener and ask how you can help and be there for them. You MUST get to know them as a human being and understand their needs in order to be successful. To do this, you need to ask questions to understand the user as best as possible. If a student asks for help, you should NOT give the student answers or solve the problem for them. Instead, you should help them understand the material and guide them to the answer step by step. Each step you send should be in it's own message and not all in the same message. For example, if the student asks for help, you could ask them what they have tried so far and suggest what they should try next. You should progressively give more information to the student until they understand the material and not give them all in one message. The user has requested that you use responses with a technical level of a expert in the field to help the understand the material. Remember, you should explain things in a way that a expert in the field would understand. Most importantly, you are not to give the student answers even if they ask for them, however, you can give them hints.\n"
     ]
    }
   ],
   "source": [
    "from textwrap import dedent\n",
    "BASE_SYSTEM_MESSAGE = dedent(\"\"\"\\\n",
    "You are a friendly tutor named {name} that works for T.A.I. As {name}, {persona}. \\\n",
    "You are to be a good listener and ask how you can help the student and be there for them. \\\n",
    "You MUST get to know them as a human being and understand their needs in order to be successful. \\\n",
    "To do this, you need to ask questions to understand the student as best as possible. \\\n",
    "If a student asks for help, you should NOT give the student answers or solve the problem for them. \\\n",
    "Instead, you should help them understand the material and guide them to the answer step by step. \\\n",
    "Each step you send should be in it's own message and not all in the same message. \\\n",
    "For example, if the student asks for help, you could ask them what they have tried so far and suggest what they should try next. \\\n",
    "You should progressively give more information to the student until they understand the material and not give them all in one message. \\\n",
    "The student has requested that you use responses with a technical level of a {technical_level} to help the understand the material. \\\n",
    "Remember, you should explain things in a way that a {technical_level} would understand. \\\n",
    "Most importantly, you are not to give the student answers even if they ask for them, however, you can give them hints.\\\n",
    "\"\"\")\n",
    "\n",
    "print(BASE_SYSTEM_MESSAGE.format(name=\"Finn\", persona=\"you are extremely positive, conversational, and outgoing\", technical_level=\"high school student\"))\n",
    "print(BASE_SYSTEM_MESSAGE.format(name=\"Kai\", persona=\"you are straightforward and use minimal fluffy language\", technical_level=\"expert in the field\"))"
   ]
  },
  {
   "cell_type": "code",
   "execution_count": 30,
   "metadata": {},
   "outputs": [],
   "source": [
    "x = [1, 2, 3]\n",
    "x.insert(0, 0)"
   ]
  },
  {
   "cell_type": "code",
   "execution_count": 1,
   "metadata": {},
   "outputs": [],
   "source": [
    "from typing import Dict, Union\n",
    "import boto3\n",
    "import json\n",
    "from botocore.config import Config as BotoConfig\n",
    "from botocore.exceptions import ClientError\n",
    "from loguru import logger\n",
    "\n",
    "\n",
    "def get_secret(secret_name: str) -> Union[Dict[str, str], str]:\n",
    "    logger.info(f\"Retrieving secret {secret_name}\")\n",
    "    session = boto3.session.Session()\n",
    "    boto_config = BotoConfig(\n",
    "        connect_timeout=10,\n",
    "        retries={\n",
    "            \"max_attempts\": 3,\n",
    "            \"mode\":\"standard\"\n",
    "        }\n",
    "    )\n",
    "    client = session.client(\n",
    "        service_name='secretsmanager',\n",
    "        config=boto_config,\n",
    "        region_name='us-east-1',\n",
    "    )\n",
    "    try:\n",
    "        logger.info(f\"{secret_name}\")\n",
    "        response = client.get_secret_value(\n",
    "            SecretId=secret_name\n",
    "        )\n",
    "    except ClientError as e:\n",
    "        raise e\n",
    "    secret_string = response[\"SecretString\"]\n",
    "    try:\n",
    "        return json.loads(secret_string)\n",
    "    except json.JSONDecodeError:\n",
    "        return secret_string"
   ]
  },
  {
   "cell_type": "code",
   "execution_count": 3,
   "metadata": {},
   "outputs": [
    {
     "name": "stderr",
     "output_type": "stream",
     "text": [
      "\u001b[32m2023-07-25 07:33:55.081\u001b[0m | \u001b[1mINFO    \u001b[0m | \u001b[36m__main__\u001b[0m:\u001b[36mget_secret\u001b[0m:\u001b[36m10\u001b[0m - \u001b[1mRetrieving secret dev/tai_service/openai/api_key\u001b[0m\n",
      "\u001b[32m2023-07-25 07:33:55.246\u001b[0m | \u001b[1mINFO    \u001b[0m | \u001b[36m__main__\u001b[0m:\u001b[36mget_secret\u001b[0m:\u001b[36m25\u001b[0m - \u001b[1mdev/tai_service/openai/api_key\u001b[0m\n"
     ]
    },
    {
     "name": "stdout",
     "output_type": "stream",
     "text": [
      "Can you help me understand limits?\n",
      "How do I determine the end behavior of polynomial functions?\n",
      "Can you explain logarithmic equations and their properties?\n",
      "How does the unit circle relate to trigonometric functions?\n",
      "Can you explain matrix operations (addition, subtraction, multiplication)?\n",
      "What are conic sections and how do they work?\n",
      "Can you provide a step-by-step explanation of logarithmic differentiation?\n",
      "What are sequences and series and how do they relate?\n",
      "How do I graph rational functions?\n",
      "Can you clarify the concept of exponential growth?\n"
     ]
    }
   ],
   "source": [
    "from taiservice.api.taibackend.taitutors.llm import TaiLLM, ChatOpenAIConfig\n",
    "\n",
    "config = ChatOpenAIConfig(api_key=get_secret(\"dev/tai_service/openai/api_key\"))\n",
    "llm = TaiLLM(config=config)\n",
    "student_messages = [\n",
    "    \"I'm having trouble understanding the concept of limits. Can you help me out?\",\n",
    "    \"Sure! I can explain limits to you. Let's start with the intuition behind it and then work through some examples.\",\n",
    "    \"I'm struggling with identifying the end behavior of polynomial functions. Can you guide me through it?\",\n",
    "    \"Definitely! I can help you understand how to determine the end behavior of polynomial functions and provide examples to illustrate the concept.\",\n",
    "    \"I need help understanding logarithmic equations and their properties. Can you provide some guidance?\",\n",
    "    \"Yes, of course! Logarithmic equations can be challenging, but I'll explain the properties and methods for solving them.\",\n",
    "    \"I'm struggling with understanding the unit circle and its relationship with trigonometric functions. Can you help clarify?\",\n",
    "    \"Absolutely! Let's dive into the unit circle together and discuss how it relates to trigonometric functions.\",\n",
    "    \"I need assistance with matrix operations. Can you explain how to add, subtract, and multiply matrices?\",\n",
    "    \"Sure! Matrix operations can be complicated, but I'll explain the processes step-by-step and give you some practice problems.\",\n",
    "    \"I'm having a hard time understanding the concept of conic sections. Can you explain them to me?\",\n",
    "    \"Definitely! Conic sections can be a bit abstract, but I'll break down each type (circle, ellipse, hyperbola, parabola) and make them more understandable.\",\n",
    "    \"I'm struggling with the concept of logarithmic differentiation. Can you provide a step-by-step explanation?\",\n",
    "    \"Absolutely! Logarithmic differentiation can be a bit challenging, but I'll guide you through the steps and show you examples.\",\n",
    "    \"I need help understanding the concept of sequences and series. Can you explain them to me?\",\n",
    "    \"Yes, of course! Sequences and series can be complex, but I'll start with the basics and gradually introduce more advanced topics.\",\n",
    "    \"I'm having difficulty with graphing rational functions. Can you provide some guidance?\",\n",
    "    \"Definitely! Graphing rational functions can be challenging, but I'll explain the process and provide tips to make it easier.\",\n",
    "    \"I'm struggling with understanding the concept of exponential growth. Can you provide a detailed explanation?\",\n",
    "    \"Yes, I can help with that! Exponential growth can be a bit tricky, but I'll break it down and give you examples to clarify the concept.\",\n",
    "    \"I need assistance with solving limits involving indeterminate forms. Can you guide me through the steps?\",\n",
    "    \"Sure! Solving limits with indeterminate forms can be challenging, but I'll walk you through the strategies and techniques involved.\",\n",
    "    \"I'm having a hard time understanding the concept of one-sided limits. Can you explain them to me?\",\n",
    "    \"Absolutely! One-sided limits can seem confusing at first, but I'll explain them in detail and provide examples to solidify the understanding.\",\n",
    "    \"I'm struggling with determining limits at infinity. Can you provide some clarification on how to approach these problems?\",\n",
    "    \"Definitely! Limits at infinity can be challenging, but I'll explain the methods and techniques for tackling these types of problems.\",\n",
    "    \"I need help understanding the properties of exponential growth functions. Can you provide an overview?\",\n",
    "    \"Yes, of course! Understanding the properties of exponential growth functions can be tricky, but I'll go through them step-by-step and provide examples.\",\n",
    "    \"I'm having difficulty with solving exponential growth models. Can you guide me through the process?\",\n",
    "    \"Sure! Solving exponential growth models can be complex, but I'll break down the steps for you and show you how to approach these problems.\",\n",
    "    \"I'm struggling with understanding the concept of population growth and how it relates to exponential functions. Can you explain it in detail?\",\n",
    "    \"Absolutely! Population growth and its connection to exponential functions can be complicated, but I'll provide a thorough explanation and examples to illustrate the concept.\",\n",
    "    \"I need assistance with determining growth rates and decay rates in exponential functions. Can you walk me through it?\",\n",
    "    \"Yes, of course! The process of determining growth rates and decay rates in exponential functions can be confusing, but I'll explain it in a clear and concise manner.\",\n",
    "    \"I'm having a hard time understanding the concept of half-life in exponential decay. Can you provide a detailed explanation?\",\n",
    "    \"Definitely! The concept of half-life in exponential decay can be challenging, but I'll break it down and give you examples to enhance your understanding.\",\n",
    "    \"I'm having trouble understanding the concept of limits. Can you help me out?\",\n",
    "    \"Sure! I can explain limits to you. Let's start with the intuition behind it and then work through some examples.\",\n",
    "    \"I'm struggling with identifying the end behavior of polynomial functions. Can you guide me through it?\",\n",
    "    \"Definitely! I can help you understand how to determine the end behavior of polynomial functions and provide examples to illustrate the concept.\",\n",
    "    \"I need help understanding logarithmic equations and their properties. Can you provide some guidance?\",\n",
    "    \"Yes, of course! Logarithmic equations can be challenging, but I'll explain the properties and methods for solving them.\",\n",
    "    \"I'm struggling with understanding the unit circle and its relationship with trigonometric functions. Can you help clarify?\",\n",
    "    \"Absolutely! Let's dive into the unit circle together and discuss how it relates to trigonometric functions.\",\n",
    "    \"I need assistance with matrix operations. Can you explain how to add, subtract, and multiply matrices?\",\n",
    "    \"Sure! Matrix operations can be complicated, but I'll explain the processes step-by-step and give you some practice problems.\",\n",
    "    \"I'm having a hard time understanding the concept of conic sections. Can you explain them to me?\",\n",
    "    \"Definitely! Conic sections can be a bit abstract, but I'll break down each type (circle, ellipse, hyperbola, parabola) and make them more understandable.\",\n",
    "    \"I'm struggling with the concept of logarithmic differentiation. Can you provide a step-by-step explanation?\",\n",
    "    \"Absolutely! Logarithmic differentiation can be a bit challenging, but I'll guide you through the steps and show you examples.\",\n",
    "    \"I need help understanding the concept of sequences and series. Can you explain them to me?\",\n",
    "    \"Yes, of course! Sequences and series can be complex, but I'll start with the basics and gradually introduce more advanced topics.\",\n",
    "    \"I'm having difficulty with graphing rational functions. Can you provide some guidance?\",\n",
    "    \"Definitely! Graphing rational functions can be challenging, but I'll explain the process and provide tips to make it easier.\",\n",
    "    \"I'm struggling with understanding the concept of exponential growth. Can you provide a detailed explanation?\",\n",
    "    \"Yes, I can help with that! Exponential growth can be a bit tricky, but I'll break it down and give you examples to clarify the concept.\",\n",
    "    \"I need assistance with solving limits involving indeterminate forms. Can you guide me through the steps?\",\n",
    "    \"Sure! Solving limits with indeterminate forms can be challenging, but I'll walk you through the strategies and techniques involved.\",\n",
    "    \"I'm having a hard time understanding the concept of one-sided limits. Can you explain them to me?\",\n",
    "    \"Absolutely! One-sided limits can seem confusing at first, but I'll explain them in detail and provide examples to solidify the understanding.\",\n",
    "    \"I'm struggling with determining limits at infinity. Can you provide some clarification on how to approach these problems?\",\n",
    "    \"Definitely! Limits at infinity can be challenging, but I'll explain the methods and techniques for tackling these types of problems.\",\n",
    "    \"I need help understanding the properties of exponential growth functions. Can you provide an overview?\",\n",
    "    \"Yes, of course! Understanding the properties of exponential growth functions can be tricky, but I'll go through them step-by-step and provide examples.\",\n",
    "    \"I'm having difficulty with solving exponential growth models. Can you guide me through the process?\",\n",
    "    \"Sure! Solving exponential growth models can be complex, but I'll break down the steps for you and show you how to approach these problems.\",\n",
    "    \"I'm struggling with understanding the concept of population growth and how it relates to exponential functions. Can you explain it in detail?\",\n",
    "    \"Absolutely! Population growth and its connection to exponential functions can be complicated, but I'll provide a thorough explanation and examples to illustrate the concept.\",\n",
    "    \"I need assistance with determining growth rates and decay rates in exponential functions. Can you walk me through it?\",\n",
    "    \"Yes, of course! The process of determining growth rates and decay rates in exponential functions can be confusing, but I'll explain it in a clear and concise manner.\",\n",
    "    \"I'm having a hard time understanding the concept of half-life in exponential decay. Can you provide a detailed explanation?\",\n",
    "    \"Definitely! The concept of half-life in exponential decay can be challenging, but I'll break it down and give you examples to enhance your understanding.\",\n",
    "    \"I'm having trouble understanding the concept of limits. Can you help me out?\",\n",
    "    \"Sure! I can explain limits to you. Let's start with the intuition behind it and then work through some examples.\",\n",
    "    \"I'm struggling with identifying the end behavior of polynomial functions. Can you guide me through it?\",\n",
    "    \"Definitely! I can help you understand how to determine the end behavior of polynomial functions and provide examples to illustrate the concept.\",\n",
    "    \"I need help understanding logarithmic equations and their properties. Can you provide some guidance?\",\n",
    "    \"Yes, of course! Logarithmic equations can be challenging, but I'll explain the properties and methods for solving them.\",\n",
    "    \"I'm struggling with understanding the unit circle and its relationship with trigonometric functions. Can you help clarify?\",\n",
    "    \"Absolutely! Let's dive into the unit circle together and discuss how it relates to trigonometric functions.\",\n",
    "    \"I need assistance with matrix operations. Can you explain how to add, subtract, and multiply matrices?\",\n",
    "    \"Sure! Matrix operations can be complicated, but I'll explain the processes step-by-step and give you some practice problems.\",\n",
    "    \"I'm having a hard time understanding the concept of conic sections. Can you explain them to me?\",\n",
    "    \"Definitely! Conic sections can be a bit abstract, but I'll break down each type (circle, ellipse, hyperbola, parabola) and make them more understandable.\",\n",
    "    \"I'm struggling with the concept of logarithmic differentiation. Can you provide a step-by-step explanation?\",\n",
    "    \"Absolutely! Logarithmic differentiation can be a bit challenging, but I'll guide you through the steps and show you examples.\",\n",
    "    \"I need help understanding the concept of sequences and series. Can you explain them to me?\",\n",
    "    \"Yes, of course! Sequences and series can be complex, but I'll start with the basics and gradually introduce more advanced topics.\",\n",
    "    \"I'm having difficulty with graphing rational functions. Can you provide some guidance?\",\n",
    "    \"Definitely! Graphing rational functions can be challenging, but I'll explain the process and provide tips to make it easier.\",\n",
    "    \"I'm struggling with understanding the concept of exponential growth. Can you provide a detailed explanation?\",\n",
    "    \"Yes, I can help with that! Exponential growth can be a bit tricky, but I'll break it down and give you examples to clarify the concept.\",\n",
    "    \"I need assistance with solving limits involving indeterminate forms. Can you guide me through the steps?\",\n",
    "    \"Sure! Solving limits with indeterminate forms can be challenging, but I'll walk you through the strategies and techniques involved.\",\n",
    "    \"I'm having a hard time understanding the concept of one-sided limits. Can you explain them to me?\",\n",
    "    \"Absolutely! One-sided limits can seem confusing at first, but I'll explain them in detail and provide examples to solidify the understanding.\",\n",
    "    \"I'm struggling with determining limits at infinity. Can you provide some clarification on how to approach these problems?\",\n",
    "    \"Definitely! Limits at infinity can be challenging, but I'll explain the methods and techniques for tackling these types of problems.\",\n",
    "    \"I need help understanding the properties of exponential growth functions. Can you provide an overview?\",\n",
    "    \"Yes, of course! Understanding the properties of exponential growth functions can be tricky, but I'll go through them step-by-step and provide examples.\",\n",
    "    \"I'm having difficulty with solving exponential growth models. Can you guide me through the process?\",\n",
    "    \"Sure! Solving exponential growth models can be complex, but I'll break down the steps for you and show you how to approach these problems.\",\n",
    "    \"I'm struggling with understanding the concept of population growth and how it relates to exponential functions. Can you explain it in detail?\",\n",
    "    \"Absolutely! Population growth and its connection to exponential functions can be complicated, but I'll provide a thorough explanation and examples to illustrate the concept.\",\n",
    "    \"I need assistance with determining growth rates and decay rates in exponential functions. Can you walk me through it?\",\n",
    "    \"Yes, of course! The process of determining growth rates and decay rates in exponential functions can be confusing, but I'll explain it in a clear and concise manner.\",\n",
    "    \"I'm having a hard time understanding the concept of half-life in exponential decay. Can you provide a detailed explanation?\",\n",
    "    \"Definitely! The concept of half-life in exponential decay can be challenging, but I'll break it down and give you examples to enhance your understanding.\"\n",
    "]\n",
    "topics = llm.summarize_student_messages(messages=student_messages, as_questions=True)\n",
    "for topic in topics:\n",
    "    print(topic)"
   ]
  },
  {
   "cell_type": "code",
   "execution_count": 13,
   "metadata": {},
   "outputs": [
    {
     "name": "stdout",
     "output_type": "stream",
     "text": [
      "\n",
      "Hi there! I'sdfiosaf    i\n",
      "\n"
     ]
    }
   ],
   "source": [
    "# import dedent\n",
    "from textwrap import dedent\n",
    "\n",
    "def print_test():\n",
    "    text = dedent(\n",
    "    \"\"\"\n",
    "    Hi there! I'sdfiosaf\\\n",
    "    i\n",
    "    \"\"\"\n",
    "    )\n",
    "    return text\n",
    "print(print_test())"
   ]
  },
  {
   "cell_type": "code",
   "execution_count": 1,
   "metadata": {},
   "outputs": [
    {
     "name": "stdout",
     "output_type": "stream",
     "text": [
      "True\n"
     ]
    }
   ],
   "source": [
    "# wriete "
   ]
  },
  {
   "cell_type": "code",
   "execution_count": 4,
   "metadata": {},
   "outputs": [
    {
     "name": "stdout",
     "output_type": "stream",
     "text": [
      "1 validation error for User\n",
      "__root__\n",
      "  Name or age must be set (type=value_error)\n"
     ]
    }
   ],
   "source": [
    "from typing import Optional\n",
    "from pydantic import BaseModel, root_validator, ValidationError\n",
    "\n",
    "class User(BaseModel):\n",
    "    name: Optional[str]\n",
    "    age: Optional[int]\n",
    "\n",
    "    @root_validator(pre=True)\n",
    "    def check_name_and_age(cls, values):\n",
    "        name = values.get('name')\n",
    "        age = values.get('age')\n",
    "        if name is None and age is None:\n",
    "            raise ValueError('Name or age must be set')\n",
    "        return values\n",
    "\n",
    "    class Config:\n",
    "        validate_assignment = True\n",
    "\n",
    "user = User(name=\"John\", age=25)\n",
    "\n",
    "try:\n",
    "    user.age = None\n",
    "    user.name = None\n",
    "except ValidationError as e:\n",
    "    print(e)"
   ]
  },
  {
   "cell_type": "code",
   "execution_count": 1,
   "metadata": {},
   "outputs": [
    {
     "name": "stdout",
     "output_type": "stream",
     "text": [
      "1 1\n",
      "2 2\n",
      "3 3\n"
     ]
    }
   ],
   "source": [
    "x = [1, 2, 3]\n",
    "\n",
    "for rank, doc_id in enumerate(x, 1):\n",
    "    print(rank, doc_id)"
   ]
  },
  {
   "cell_type": "code",
   "execution_count": 2,
   "metadata": {},
   "outputs": [],
   "source": [
    "from langchain.document_loaders import YoutubeLoader"
   ]
  },
  {
   "cell_type": "code",
   "execution_count": 1,
   "metadata": {},
   "outputs": [
    {
     "data": {
      "text/plain": [
       "True"
      ]
     },
     "execution_count": 1,
     "metadata": {},
     "output_type": "execute_result"
    }
   ],
   "source": [
    "bool((False, None))"
   ]
  },
  {
   "cell_type": "code",
   "execution_count": 1,
   "metadata": {},
   "outputs": [
    {
     "name": "stdout",
     "output_type": "stream",
     "text": [
      "Problem 1\n",
      "\n",
      "Normal Axial Stress Worked Example\n",
      "\n",
      "- A steel beam measuring $10 \\mathrm{~mm}$ wide by $20 \\mathrm{~mm}$ tall by $3 \\mathrm{~m}$ long is subjected to a compressive load of 40,000 Newtons. What is the average compressive stress in a cross section of the beam normal to the forces.\n",
      "\n",
      "![](https://cdn.mathpix.com/cropped/2023_09_08_2b7618456e7fda365732g-1.jpg?height=197&width=977&top_left_y=594&top_left_x=581)\n",
      "\n",
      "PennState\n",
      "\n",
      "Pennstate\n",
      "Mont Alto\n",
      "\n",
      "7\n",
      "\n",
      "$$\n",
      "\\begin{gathered}\n",
      "\\sigma=\\frac{N}{A} \\\\\n",
      "\\sigma=\\frac{40,000 \\mathrm{~N}}{(.01 \\mathrm{~m})(.02 \\mathrm{~m})}=2 \\times 10^{8} \\frac{\\mathrm{N}}{\\mathrm{m}^{2}} \\\\\n",
      "\\sigma=200 \\mathrm{MPa}\n",
      "\\end{gathered}\n",
      "$$\n",
      "\n",
      "Lecture 2 Page 1\n",
      "\n",
      "\n"
     ]
    }
   ],
   "source": [
    "print(\"Problem 1\\n\\nNormal Axial Stress Worked Example\\n\\n- A steel beam measuring $10 \\\\mathrm{~mm}$ wide by $20 \\\\mathrm{~mm}$ tall by $3 \\\\mathrm{~m}$ long is subjected to a compressive load of 40,000 Newtons. What is the average compressive stress in a cross section of the beam normal to the forces.\\n\\n![](https://cdn.mathpix.com/cropped/2023_09_08_2b7618456e7fda365732g-1.jpg?height=197&width=977&top_left_y=594&top_left_x=581)\\n\\nPennState\\n\\nPennstate\\nMont Alto\\n\\n7\\n\\n$$\\n\\\\begin{gathered}\\n\\\\sigma=\\\\frac{N}{A} \\\\\\\\\\n\\\\sigma=\\\\frac{40,000 \\\\mathrm{~N}}{(.01 \\\\mathrm{~m})(.02 \\\\mathrm{~m})}=2 \\\\times 10^{8} \\\\frac{\\\\mathrm{N}}{\\\\mathrm{m}^{2}} \\\\\\\\\\n\\\\sigma=200 \\\\mathrm{MPa}\\n\\\\end{gathered}\\n$$\\n\\nLecture 2 Page 1\\n\\n\")"
   ]
  },
  {
   "cell_type": "code",
   "execution_count": 4,
   "metadata": {},
   "outputs": [
    {
     "ename": "KeyboardInterrupt",
     "evalue": "",
     "output_type": "error",
     "traceback": [
      "\u001b[0;31m---------------------------------------------------------------------------\u001b[0m",
      "\u001b[0;31mKeyboardInterrupt\u001b[0m                         Traceback (most recent call last)",
      "Cell \u001b[0;32mIn[4], line 17\u001b[0m\n\u001b[1;32m     14\u001b[0m \u001b[39mfor\u001b[39;00m obj \u001b[39min\u001b[39;00m page[\u001b[39m'\u001b[39m\u001b[39mContents\u001b[39m\u001b[39m'\u001b[39m]:\n\u001b[1;32m     15\u001b[0m     \u001b[39m# Update the metadata for objects that end with '.pdf'\u001b[39;00m\n\u001b[1;32m     16\u001b[0m     \u001b[39mif\u001b[39;00m obj[\u001b[39m'\u001b[39m\u001b[39mKey\u001b[39m\u001b[39m'\u001b[39m]\u001b[39m.\u001b[39mendswith(\u001b[39m'\u001b[39m\u001b[39m.pdf\u001b[39m\u001b[39m'\u001b[39m):\n\u001b[0;32m---> 17\u001b[0m         s3\u001b[39m.\u001b[39;49mcopy_object(Bucket\u001b[39m=\u001b[39;49mbucket_name, \n\u001b[1;32m     18\u001b[0m             CopySource\u001b[39m=\u001b[39;49m{\u001b[39m'\u001b[39;49m\u001b[39mBucket\u001b[39;49m\u001b[39m'\u001b[39;49m: bucket_name, \u001b[39m'\u001b[39;49m\u001b[39mKey\u001b[39;49m\u001b[39m'\u001b[39;49m: obj[\u001b[39m'\u001b[39;49m\u001b[39mKey\u001b[39;49m\u001b[39m'\u001b[39;49m]}, \n\u001b[1;32m     19\u001b[0m             Key\u001b[39m=\u001b[39;49mobj[\u001b[39m'\u001b[39;49m\u001b[39mKey\u001b[39;49m\u001b[39m'\u001b[39;49m], \n\u001b[1;32m     20\u001b[0m             ContentType\u001b[39m=\u001b[39;49m\u001b[39m'\u001b[39;49m\u001b[39mapplication/pdf\u001b[39;49m\u001b[39m'\u001b[39;49m, \n\u001b[1;32m     21\u001b[0m             MetadataDirective\u001b[39m=\u001b[39;49m\u001b[39m'\u001b[39;49m\u001b[39mREPLACE\u001b[39;49m\u001b[39m'\u001b[39;49m\n\u001b[1;32m     22\u001b[0m         )\n",
      "File \u001b[0;32m~/tai-service/.venv/lib/python3.10/site-packages/botocore/client.py:535\u001b[0m, in \u001b[0;36mClientCreator._create_api_method.<locals>._api_call\u001b[0;34m(self, *args, **kwargs)\u001b[0m\n\u001b[1;32m    531\u001b[0m     \u001b[39mraise\u001b[39;00m \u001b[39mTypeError\u001b[39;00m(\n\u001b[1;32m    532\u001b[0m         \u001b[39mf\u001b[39m\u001b[39m\"\u001b[39m\u001b[39m{\u001b[39;00mpy_operation_name\u001b[39m}\u001b[39;00m\u001b[39m() only accepts keyword arguments.\u001b[39m\u001b[39m\"\u001b[39m\n\u001b[1;32m    533\u001b[0m     )\n\u001b[1;32m    534\u001b[0m \u001b[39m# The \"self\" in this scope is referring to the BaseClient.\u001b[39;00m\n\u001b[0;32m--> 535\u001b[0m \u001b[39mreturn\u001b[39;00m \u001b[39mself\u001b[39;49m\u001b[39m.\u001b[39;49m_make_api_call(operation_name, kwargs)\n",
      "File \u001b[0;32m~/tai-service/.venv/lib/python3.10/site-packages/botocore/client.py:963\u001b[0m, in \u001b[0;36mBaseClient._make_api_call\u001b[0;34m(self, operation_name, api_params)\u001b[0m\n\u001b[1;32m    959\u001b[0m     maybe_compress_request(\n\u001b[1;32m    960\u001b[0m         \u001b[39mself\u001b[39m\u001b[39m.\u001b[39mmeta\u001b[39m.\u001b[39mconfig, request_dict, operation_model\n\u001b[1;32m    961\u001b[0m     )\n\u001b[1;32m    962\u001b[0m     apply_request_checksum(request_dict)\n\u001b[0;32m--> 963\u001b[0m     http, parsed_response \u001b[39m=\u001b[39m \u001b[39mself\u001b[39;49m\u001b[39m.\u001b[39;49m_make_request(\n\u001b[1;32m    964\u001b[0m         operation_model, request_dict, request_context\n\u001b[1;32m    965\u001b[0m     )\n\u001b[1;32m    967\u001b[0m \u001b[39mself\u001b[39m\u001b[39m.\u001b[39mmeta\u001b[39m.\u001b[39mevents\u001b[39m.\u001b[39memit(\n\u001b[1;32m    968\u001b[0m     \u001b[39m'\u001b[39m\u001b[39mafter-call.\u001b[39m\u001b[39m{service_id}\u001b[39;00m\u001b[39m.\u001b[39m\u001b[39m{operation_name}\u001b[39;00m\u001b[39m'\u001b[39m\u001b[39m.\u001b[39mformat(\n\u001b[1;32m    969\u001b[0m         service_id\u001b[39m=\u001b[39mservice_id, operation_name\u001b[39m=\u001b[39moperation_name\n\u001b[0;32m   (...)\u001b[0m\n\u001b[1;32m    974\u001b[0m     context\u001b[39m=\u001b[39mrequest_context,\n\u001b[1;32m    975\u001b[0m )\n\u001b[1;32m    977\u001b[0m \u001b[39mif\u001b[39;00m http\u001b[39m.\u001b[39mstatus_code \u001b[39m>\u001b[39m\u001b[39m=\u001b[39m \u001b[39m300\u001b[39m:\n",
      "File \u001b[0;32m~/tai-service/.venv/lib/python3.10/site-packages/botocore/client.py:986\u001b[0m, in \u001b[0;36mBaseClient._make_request\u001b[0;34m(self, operation_model, request_dict, request_context)\u001b[0m\n\u001b[1;32m    984\u001b[0m \u001b[39mdef\u001b[39;00m \u001b[39m_make_request\u001b[39m(\u001b[39mself\u001b[39m, operation_model, request_dict, request_context):\n\u001b[1;32m    985\u001b[0m     \u001b[39mtry\u001b[39;00m:\n\u001b[0;32m--> 986\u001b[0m         \u001b[39mreturn\u001b[39;00m \u001b[39mself\u001b[39;49m\u001b[39m.\u001b[39;49m_endpoint\u001b[39m.\u001b[39;49mmake_request(operation_model, request_dict)\n\u001b[1;32m    987\u001b[0m     \u001b[39mexcept\u001b[39;00m \u001b[39mException\u001b[39;00m \u001b[39mas\u001b[39;00m e:\n\u001b[1;32m    988\u001b[0m         \u001b[39mself\u001b[39m\u001b[39m.\u001b[39mmeta\u001b[39m.\u001b[39mevents\u001b[39m.\u001b[39memit(\n\u001b[1;32m    989\u001b[0m             \u001b[39m'\u001b[39m\u001b[39mafter-call-error.\u001b[39m\u001b[39m{service_id}\u001b[39;00m\u001b[39m.\u001b[39m\u001b[39m{operation_name}\u001b[39;00m\u001b[39m'\u001b[39m\u001b[39m.\u001b[39mformat(\n\u001b[1;32m    990\u001b[0m                 service_id\u001b[39m=\u001b[39m\u001b[39mself\u001b[39m\u001b[39m.\u001b[39m_service_model\u001b[39m.\u001b[39mservice_id\u001b[39m.\u001b[39mhyphenize(),\n\u001b[0;32m   (...)\u001b[0m\n\u001b[1;32m    994\u001b[0m             context\u001b[39m=\u001b[39mrequest_context,\n\u001b[1;32m    995\u001b[0m         )\n",
      "File \u001b[0;32m~/tai-service/.venv/lib/python3.10/site-packages/botocore/endpoint.py:119\u001b[0m, in \u001b[0;36mEndpoint.make_request\u001b[0;34m(self, operation_model, request_dict)\u001b[0m\n\u001b[1;32m    113\u001b[0m \u001b[39mdef\u001b[39;00m \u001b[39mmake_request\u001b[39m(\u001b[39mself\u001b[39m, operation_model, request_dict):\n\u001b[1;32m    114\u001b[0m     logger\u001b[39m.\u001b[39mdebug(\n\u001b[1;32m    115\u001b[0m         \u001b[39m\"\u001b[39m\u001b[39mMaking request for \u001b[39m\u001b[39m%s\u001b[39;00m\u001b[39m with params: \u001b[39m\u001b[39m%s\u001b[39;00m\u001b[39m\"\u001b[39m,\n\u001b[1;32m    116\u001b[0m         operation_model,\n\u001b[1;32m    117\u001b[0m         request_dict,\n\u001b[1;32m    118\u001b[0m     )\n\u001b[0;32m--> 119\u001b[0m     \u001b[39mreturn\u001b[39;00m \u001b[39mself\u001b[39;49m\u001b[39m.\u001b[39;49m_send_request(request_dict, operation_model)\n",
      "File \u001b[0;32m~/tai-service/.venv/lib/python3.10/site-packages/botocore/endpoint.py:199\u001b[0m, in \u001b[0;36mEndpoint._send_request\u001b[0;34m(self, request_dict, operation_model)\u001b[0m\n\u001b[1;32m    197\u001b[0m \u001b[39mself\u001b[39m\u001b[39m.\u001b[39m_update_retries_context(context, attempts)\n\u001b[1;32m    198\u001b[0m request \u001b[39m=\u001b[39m \u001b[39mself\u001b[39m\u001b[39m.\u001b[39mcreate_request(request_dict, operation_model)\n\u001b[0;32m--> 199\u001b[0m success_response, exception \u001b[39m=\u001b[39m \u001b[39mself\u001b[39;49m\u001b[39m.\u001b[39;49m_get_response(\n\u001b[1;32m    200\u001b[0m     request, operation_model, context\n\u001b[1;32m    201\u001b[0m )\n\u001b[1;32m    202\u001b[0m \u001b[39mwhile\u001b[39;00m \u001b[39mself\u001b[39m\u001b[39m.\u001b[39m_needs_retry(\n\u001b[1;32m    203\u001b[0m     attempts,\n\u001b[1;32m    204\u001b[0m     operation_model,\n\u001b[0;32m   (...)\u001b[0m\n\u001b[1;32m    207\u001b[0m     exception,\n\u001b[1;32m    208\u001b[0m ):\n\u001b[1;32m    209\u001b[0m     attempts \u001b[39m+\u001b[39m\u001b[39m=\u001b[39m \u001b[39m1\u001b[39m\n",
      "File \u001b[0;32m~/tai-service/.venv/lib/python3.10/site-packages/botocore/endpoint.py:241\u001b[0m, in \u001b[0;36mEndpoint._get_response\u001b[0;34m(self, request, operation_model, context)\u001b[0m\n\u001b[1;32m    235\u001b[0m \u001b[39mdef\u001b[39;00m \u001b[39m_get_response\u001b[39m(\u001b[39mself\u001b[39m, request, operation_model, context):\n\u001b[1;32m    236\u001b[0m     \u001b[39m# This will return a tuple of (success_response, exception)\u001b[39;00m\n\u001b[1;32m    237\u001b[0m     \u001b[39m# and success_response is itself a tuple of\u001b[39;00m\n\u001b[1;32m    238\u001b[0m     \u001b[39m# (http_response, parsed_dict).\u001b[39;00m\n\u001b[1;32m    239\u001b[0m     \u001b[39m# If an exception occurs then the success_response is None.\u001b[39;00m\n\u001b[1;32m    240\u001b[0m     \u001b[39m# If no exception occurs then exception is None.\u001b[39;00m\n\u001b[0;32m--> 241\u001b[0m     success_response, exception \u001b[39m=\u001b[39m \u001b[39mself\u001b[39;49m\u001b[39m.\u001b[39;49m_do_get_response(\n\u001b[1;32m    242\u001b[0m         request, operation_model, context\n\u001b[1;32m    243\u001b[0m     )\n\u001b[1;32m    244\u001b[0m     kwargs_to_emit \u001b[39m=\u001b[39m {\n\u001b[1;32m    245\u001b[0m         \u001b[39m'\u001b[39m\u001b[39mresponse_dict\u001b[39m\u001b[39m'\u001b[39m: \u001b[39mNone\u001b[39;00m,\n\u001b[1;32m    246\u001b[0m         \u001b[39m'\u001b[39m\u001b[39mparsed_response\u001b[39m\u001b[39m'\u001b[39m: \u001b[39mNone\u001b[39;00m,\n\u001b[1;32m    247\u001b[0m         \u001b[39m'\u001b[39m\u001b[39mcontext\u001b[39m\u001b[39m'\u001b[39m: context,\n\u001b[1;32m    248\u001b[0m         \u001b[39m'\u001b[39m\u001b[39mexception\u001b[39m\u001b[39m'\u001b[39m: exception,\n\u001b[1;32m    249\u001b[0m     }\n\u001b[1;32m    250\u001b[0m     \u001b[39mif\u001b[39;00m success_response \u001b[39mis\u001b[39;00m \u001b[39mnot\u001b[39;00m \u001b[39mNone\u001b[39;00m:\n",
      "File \u001b[0;32m~/tai-service/.venv/lib/python3.10/site-packages/botocore/endpoint.py:281\u001b[0m, in \u001b[0;36mEndpoint._do_get_response\u001b[0;34m(self, request, operation_model, context)\u001b[0m\n\u001b[1;32m    279\u001b[0m     http_response \u001b[39m=\u001b[39m first_non_none_response(responses)\n\u001b[1;32m    280\u001b[0m     \u001b[39mif\u001b[39;00m http_response \u001b[39mis\u001b[39;00m \u001b[39mNone\u001b[39;00m:\n\u001b[0;32m--> 281\u001b[0m         http_response \u001b[39m=\u001b[39m \u001b[39mself\u001b[39;49m\u001b[39m.\u001b[39;49m_send(request)\n\u001b[1;32m    282\u001b[0m \u001b[39mexcept\u001b[39;00m HTTPClientError \u001b[39mas\u001b[39;00m e:\n\u001b[1;32m    283\u001b[0m     \u001b[39mreturn\u001b[39;00m (\u001b[39mNone\u001b[39;00m, e)\n",
      "File \u001b[0;32m~/tai-service/.venv/lib/python3.10/site-packages/botocore/endpoint.py:377\u001b[0m, in \u001b[0;36mEndpoint._send\u001b[0;34m(self, request)\u001b[0m\n\u001b[1;32m    376\u001b[0m \u001b[39mdef\u001b[39;00m \u001b[39m_send\u001b[39m(\u001b[39mself\u001b[39m, request):\n\u001b[0;32m--> 377\u001b[0m     \u001b[39mreturn\u001b[39;00m \u001b[39mself\u001b[39;49m\u001b[39m.\u001b[39;49mhttp_session\u001b[39m.\u001b[39;49msend(request)\n",
      "File \u001b[0;32m~/tai-service/.venv/lib/python3.10/site-packages/botocore/httpsession.py:465\u001b[0m, in \u001b[0;36mURLLib3Session.send\u001b[0;34m(self, request)\u001b[0m\n\u001b[1;32m    462\u001b[0m     conn\u001b[39m.\u001b[39mproxy_headers[\u001b[39m'\u001b[39m\u001b[39mhost\u001b[39m\u001b[39m'\u001b[39m] \u001b[39m=\u001b[39m host\n\u001b[1;32m    464\u001b[0m request_target \u001b[39m=\u001b[39m \u001b[39mself\u001b[39m\u001b[39m.\u001b[39m_get_request_target(request\u001b[39m.\u001b[39murl, proxy_url)\n\u001b[0;32m--> 465\u001b[0m urllib_response \u001b[39m=\u001b[39m conn\u001b[39m.\u001b[39;49murlopen(\n\u001b[1;32m    466\u001b[0m     method\u001b[39m=\u001b[39;49mrequest\u001b[39m.\u001b[39;49mmethod,\n\u001b[1;32m    467\u001b[0m     url\u001b[39m=\u001b[39;49mrequest_target,\n\u001b[1;32m    468\u001b[0m     body\u001b[39m=\u001b[39;49mrequest\u001b[39m.\u001b[39;49mbody,\n\u001b[1;32m    469\u001b[0m     headers\u001b[39m=\u001b[39;49mrequest\u001b[39m.\u001b[39;49mheaders,\n\u001b[1;32m    470\u001b[0m     retries\u001b[39m=\u001b[39;49mRetry(\u001b[39mFalse\u001b[39;49;00m),\n\u001b[1;32m    471\u001b[0m     assert_same_host\u001b[39m=\u001b[39;49m\u001b[39mFalse\u001b[39;49;00m,\n\u001b[1;32m    472\u001b[0m     preload_content\u001b[39m=\u001b[39;49m\u001b[39mFalse\u001b[39;49;00m,\n\u001b[1;32m    473\u001b[0m     decode_content\u001b[39m=\u001b[39;49m\u001b[39mFalse\u001b[39;49;00m,\n\u001b[1;32m    474\u001b[0m     chunked\u001b[39m=\u001b[39;49m\u001b[39mself\u001b[39;49m\u001b[39m.\u001b[39;49m_chunked(request\u001b[39m.\u001b[39;49mheaders),\n\u001b[1;32m    475\u001b[0m )\n\u001b[1;32m    477\u001b[0m http_response \u001b[39m=\u001b[39m botocore\u001b[39m.\u001b[39mawsrequest\u001b[39m.\u001b[39mAWSResponse(\n\u001b[1;32m    478\u001b[0m     request\u001b[39m.\u001b[39murl,\n\u001b[1;32m    479\u001b[0m     urllib_response\u001b[39m.\u001b[39mstatus,\n\u001b[1;32m    480\u001b[0m     urllib_response\u001b[39m.\u001b[39mheaders,\n\u001b[1;32m    481\u001b[0m     urllib_response,\n\u001b[1;32m    482\u001b[0m )\n\u001b[1;32m    484\u001b[0m \u001b[39mif\u001b[39;00m \u001b[39mnot\u001b[39;00m request\u001b[39m.\u001b[39mstream_output:\n\u001b[1;32m    485\u001b[0m     \u001b[39m# Cause the raw stream to be exhausted immediately. We do it\u001b[39;00m\n\u001b[1;32m    486\u001b[0m     \u001b[39m# this way instead of using preload_content because\u001b[39;00m\n\u001b[1;32m    487\u001b[0m     \u001b[39m# preload_content will never buffer chunked responses\u001b[39;00m\n",
      "File \u001b[0;32m~/tai-service/.venv/lib/python3.10/site-packages/urllib3/connectionpool.py:714\u001b[0m, in \u001b[0;36mHTTPConnectionPool.urlopen\u001b[0;34m(self, method, url, body, headers, retries, redirect, assert_same_host, timeout, pool_timeout, release_conn, chunked, body_pos, **response_kw)\u001b[0m\n\u001b[1;32m    711\u001b[0m     \u001b[39mself\u001b[39m\u001b[39m.\u001b[39m_prepare_proxy(conn)\n\u001b[1;32m    713\u001b[0m \u001b[39m# Make the request on the httplib connection object.\u001b[39;00m\n\u001b[0;32m--> 714\u001b[0m httplib_response \u001b[39m=\u001b[39m \u001b[39mself\u001b[39;49m\u001b[39m.\u001b[39;49m_make_request(\n\u001b[1;32m    715\u001b[0m     conn,\n\u001b[1;32m    716\u001b[0m     method,\n\u001b[1;32m    717\u001b[0m     url,\n\u001b[1;32m    718\u001b[0m     timeout\u001b[39m=\u001b[39;49mtimeout_obj,\n\u001b[1;32m    719\u001b[0m     body\u001b[39m=\u001b[39;49mbody,\n\u001b[1;32m    720\u001b[0m     headers\u001b[39m=\u001b[39;49mheaders,\n\u001b[1;32m    721\u001b[0m     chunked\u001b[39m=\u001b[39;49mchunked,\n\u001b[1;32m    722\u001b[0m )\n\u001b[1;32m    724\u001b[0m \u001b[39m# If we're going to release the connection in ``finally:``, then\u001b[39;00m\n\u001b[1;32m    725\u001b[0m \u001b[39m# the response doesn't need to know about the connection. Otherwise\u001b[39;00m\n\u001b[1;32m    726\u001b[0m \u001b[39m# it will also try to release it and we'll have a double-release\u001b[39;00m\n\u001b[1;32m    727\u001b[0m \u001b[39m# mess.\u001b[39;00m\n\u001b[1;32m    728\u001b[0m response_conn \u001b[39m=\u001b[39m conn \u001b[39mif\u001b[39;00m \u001b[39mnot\u001b[39;00m release_conn \u001b[39melse\u001b[39;00m \u001b[39mNone\u001b[39;00m\n",
      "File \u001b[0;32m~/tai-service/.venv/lib/python3.10/site-packages/urllib3/connectionpool.py:415\u001b[0m, in \u001b[0;36mHTTPConnectionPool._make_request\u001b[0;34m(self, conn, method, url, timeout, chunked, **httplib_request_kw)\u001b[0m\n\u001b[1;32m    413\u001b[0m         conn\u001b[39m.\u001b[39mrequest_chunked(method, url, \u001b[39m*\u001b[39m\u001b[39m*\u001b[39mhttplib_request_kw)\n\u001b[1;32m    414\u001b[0m     \u001b[39melse\u001b[39;00m:\n\u001b[0;32m--> 415\u001b[0m         conn\u001b[39m.\u001b[39;49mrequest(method, url, \u001b[39m*\u001b[39;49m\u001b[39m*\u001b[39;49mhttplib_request_kw)\n\u001b[1;32m    417\u001b[0m \u001b[39m# We are swallowing BrokenPipeError (errno.EPIPE) since the server is\u001b[39;00m\n\u001b[1;32m    418\u001b[0m \u001b[39m# legitimately able to close the connection after sending a valid response.\u001b[39;00m\n\u001b[1;32m    419\u001b[0m \u001b[39m# With this behaviour, the received response is still readable.\u001b[39;00m\n\u001b[1;32m    420\u001b[0m \u001b[39mexcept\u001b[39;00m \u001b[39mBrokenPipeError\u001b[39;00m:\n\u001b[1;32m    421\u001b[0m     \u001b[39m# Python 3\u001b[39;00m\n",
      "File \u001b[0;32m~/tai-service/.venv/lib/python3.10/site-packages/botocore/awsrequest.py:96\u001b[0m, in \u001b[0;36mAWSConnection.request\u001b[0;34m(self, method, url, body, headers, *args, **kwargs)\u001b[0m\n\u001b[1;32m     94\u001b[0m     \u001b[39mself\u001b[39m\u001b[39m.\u001b[39m_expect_header_set \u001b[39m=\u001b[39m \u001b[39mFalse\u001b[39;00m\n\u001b[1;32m     95\u001b[0m     \u001b[39mself\u001b[39m\u001b[39m.\u001b[39mresponse_class \u001b[39m=\u001b[39m \u001b[39mself\u001b[39m\u001b[39m.\u001b[39m_original_response_cls\n\u001b[0;32m---> 96\u001b[0m rval \u001b[39m=\u001b[39m \u001b[39msuper\u001b[39;49m()\u001b[39m.\u001b[39;49mrequest(method, url, body, headers, \u001b[39m*\u001b[39;49margs, \u001b[39m*\u001b[39;49m\u001b[39m*\u001b[39;49mkwargs)\n\u001b[1;32m     97\u001b[0m \u001b[39mself\u001b[39m\u001b[39m.\u001b[39m_expect_header_set \u001b[39m=\u001b[39m \u001b[39mFalse\u001b[39;00m\n\u001b[1;32m     98\u001b[0m \u001b[39mreturn\u001b[39;00m rval\n",
      "File \u001b[0;32m~/tai-service/.venv/lib/python3.10/site-packages/urllib3/connection.py:244\u001b[0m, in \u001b[0;36mHTTPConnection.request\u001b[0;34m(self, method, url, body, headers)\u001b[0m\n\u001b[1;32m    242\u001b[0m \u001b[39mif\u001b[39;00m \u001b[39m\"\u001b[39m\u001b[39muser-agent\u001b[39m\u001b[39m\"\u001b[39m \u001b[39mnot\u001b[39;00m \u001b[39min\u001b[39;00m (six\u001b[39m.\u001b[39mensure_str(k\u001b[39m.\u001b[39mlower()) \u001b[39mfor\u001b[39;00m k \u001b[39min\u001b[39;00m headers):\n\u001b[1;32m    243\u001b[0m     headers[\u001b[39m\"\u001b[39m\u001b[39mUser-Agent\u001b[39m\u001b[39m\"\u001b[39m] \u001b[39m=\u001b[39m _get_default_user_agent()\n\u001b[0;32m--> 244\u001b[0m \u001b[39msuper\u001b[39;49m(HTTPConnection, \u001b[39mself\u001b[39;49m)\u001b[39m.\u001b[39;49mrequest(method, url, body\u001b[39m=\u001b[39;49mbody, headers\u001b[39m=\u001b[39;49mheaders)\n",
      "File \u001b[0;32m~/.pyenv/versions/3.10.10/lib/python3.10/http/client.py:1282\u001b[0m, in \u001b[0;36mHTTPConnection.request\u001b[0;34m(self, method, url, body, headers, encode_chunked)\u001b[0m\n\u001b[1;32m   1279\u001b[0m \u001b[39mdef\u001b[39;00m \u001b[39mrequest\u001b[39m(\u001b[39mself\u001b[39m, method, url, body\u001b[39m=\u001b[39m\u001b[39mNone\u001b[39;00m, headers\u001b[39m=\u001b[39m{}, \u001b[39m*\u001b[39m,\n\u001b[1;32m   1280\u001b[0m             encode_chunked\u001b[39m=\u001b[39m\u001b[39mFalse\u001b[39;00m):\n\u001b[1;32m   1281\u001b[0m \u001b[39m    \u001b[39m\u001b[39m\"\"\"Send a complete request to the server.\"\"\"\u001b[39;00m\n\u001b[0;32m-> 1282\u001b[0m     \u001b[39mself\u001b[39;49m\u001b[39m.\u001b[39;49m_send_request(method, url, body, headers, encode_chunked)\n",
      "File \u001b[0;32m~/.pyenv/versions/3.10.10/lib/python3.10/http/client.py:1286\u001b[0m, in \u001b[0;36mHTTPConnection._send_request\u001b[0;34m(self, method, url, body, headers, encode_chunked)\u001b[0m\n\u001b[1;32m   1284\u001b[0m \u001b[39mdef\u001b[39;00m \u001b[39m_send_request\u001b[39m(\u001b[39mself\u001b[39m, method, url, body, headers, encode_chunked):\n\u001b[1;32m   1285\u001b[0m     \u001b[39m# Honor explicitly requested Host: and Accept-Encoding: headers.\u001b[39;00m\n\u001b[0;32m-> 1286\u001b[0m     header_names \u001b[39m=\u001b[39m \u001b[39mfrozenset\u001b[39;49m(k\u001b[39m.\u001b[39;49mlower() \u001b[39mfor\u001b[39;49;00m k \u001b[39min\u001b[39;49;00m headers)\n\u001b[1;32m   1287\u001b[0m     skips \u001b[39m=\u001b[39m {}\n\u001b[1;32m   1288\u001b[0m     \u001b[39mif\u001b[39;00m \u001b[39m'\u001b[39m\u001b[39mhost\u001b[39m\u001b[39m'\u001b[39m \u001b[39min\u001b[39;00m header_names:\n",
      "File \u001b[0;32m~/.pyenv/versions/3.10.10/lib/python3.10/http/client.py:1286\u001b[0m, in \u001b[0;36m<genexpr>\u001b[0;34m(.0)\u001b[0m\n\u001b[1;32m   1284\u001b[0m \u001b[39mdef\u001b[39;00m \u001b[39m_send_request\u001b[39m(\u001b[39mself\u001b[39m, method, url, body, headers, encode_chunked):\n\u001b[1;32m   1285\u001b[0m     \u001b[39m# Honor explicitly requested Host: and Accept-Encoding: headers.\u001b[39;00m\n\u001b[0;32m-> 1286\u001b[0m     header_names \u001b[39m=\u001b[39m \u001b[39mfrozenset\u001b[39m(k\u001b[39m.\u001b[39mlower() \u001b[39mfor\u001b[39;00m k \u001b[39min\u001b[39;00m headers)\n\u001b[1;32m   1287\u001b[0m     skips \u001b[39m=\u001b[39m {}\n\u001b[1;32m   1288\u001b[0m     \u001b[39mif\u001b[39;00m \u001b[39m'\u001b[39m\u001b[39mhost\u001b[39m\u001b[39m'\u001b[39m \u001b[39min\u001b[39;00m header_names:\n",
      "File \u001b[0;32m~/tai-service/.venv/lib/python3.10/site-packages/botocore/awsrequest.py:626\u001b[0m, in \u001b[0;36m<genexpr>\u001b[0;34m(.0)\u001b[0m\n\u001b[1;32m    625\u001b[0m \u001b[39mdef\u001b[39;00m \u001b[39m__iter__\u001b[39m(\u001b[39mself\u001b[39m):\n\u001b[0;32m--> 626\u001b[0m     \u001b[39mreturn\u001b[39;00m (\u001b[39mstr\u001b[39;49m(key) \u001b[39mfor\u001b[39;00m key \u001b[39min\u001b[39;00m \u001b[39mself\u001b[39m\u001b[39m.\u001b[39m_dict)\n",
      "\u001b[0;31mKeyboardInterrupt\u001b[0m: "
     ]
    }
   ],
   "source": [
    "import boto3\n",
    "\n",
    "# Initialize the boto3 client for S3\n",
    "s3 = boto3.client('s3', region_name='us-east-1')\n",
    "\n",
    "# The name of your S3 bucket\n",
    "bucket_name = 'tai-service-class-resource-cold-store-dev'\n",
    "\n",
    "# Create a paginator to retrieve all objects\n",
    "paginator = s3.get_paginator('list_objects_v2')\n",
    "pages = paginator.paginate(Bucket=bucket_name)\n",
    "\n",
    "for page in pages:\n",
    "    for obj in page['Contents']:\n",
    "        # Update the metadata for objects that end with '.pdf'\n",
    "        if obj['Key'].endswith('.pdf'):\n",
    "            s3.copy_object(Bucket=bucket_name, \n",
    "                CopySource={'Bucket': bucket_name, 'Key': obj['Key']}, \n",
    "                Key=obj['Key'], \n",
    "                ContentType='application/pdf', \n",
    "                MetadataDirective='REPLACE'\n",
    "            )"
   ]
  },
  {
   "cell_type": "code",
   "execution_count": 4,
   "metadata": {},
   "outputs": [
    {
     "name": "stdout",
     "output_type": "stream",
     "text": [
      "Requirement already satisfied: redis in ./.venv/lib/python3.10/site-packages (5.0.0)\n",
      "Requirement already satisfied: async-timeout>=4.0.2 in ./.venv/lib/python3.10/site-packages (from redis) (4.0.3)\n",
      "Note: you may need to restart the kernel to use updated packages.\n",
      "foo: bar\n",
      "bar: None\n"
     ]
    }
   ],
   "source": [
    "%pip install redis\n",
    "\n",
    "\n"
   ]
  },
  {
   "cell_type": "code",
   "execution_count": 52,
   "metadata": {},
   "outputs": [
    {
     "name": "stdout",
     "output_type": "stream",
     "text": [
      "Connected to Redis\n",
      "True\n",
      "foo: bar\n",
      "bar: None\n"
     ]
    }
   ],
   "source": [
    "from redis import RedisCluster, Redis\n",
    "\n",
    "r = Redis(host=\"localhost\", port=6379, decode_responses=True)\n",
    "print(\"Connected to Redis\")\n",
    "print(r.ping())\n",
    "r.set('foo', 'bar')\n",
    "print(f\"foo: {r.get('foo')}\")\n",
    "print(f\"bar: {r.get('bar')}\")"
   ]
  },
  {
   "cell_type": "code",
   "execution_count": null,
   "metadata": {},
   "outputs": [],
   "source": []
  }
 ],
 "metadata": {
  "kernelspec": {
   "display_name": ".env",
   "language": "python",
   "name": "python3"
  },
  "language_info": {
   "codemirror_mode": {
    "name": "ipython",
    "version": 3
   },
   "file_extension": ".py",
   "mimetype": "text/x-python",
   "name": "python",
   "nbconvert_exporter": "python",
   "pygments_lexer": "ipython3",
   "version": "3.10.10"
  },
  "orig_nbformat": 4
 },
 "nbformat": 4,
 "nbformat_minor": 2
}
