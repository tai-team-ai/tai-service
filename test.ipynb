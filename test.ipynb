{
 "cells": [
  {
   "cell_type": "code",
   "execution_count": 1,
   "metadata": {},
   "outputs": [
    {
     "ename": "TypeError",
     "evalue": "test_function() got an unexpected keyword argument 'z'",
     "output_type": "error",
     "traceback": [
      "\u001b[0;31m---------------------------------------------------------------------------\u001b[0m",
      "\u001b[0;31mTypeError\u001b[0m                                 Traceback (most recent call last)",
      "Cell \u001b[0;32mIn[1], line 4\u001b[0m\n\u001b[1;32m      1\u001b[0m \u001b[39mdef\u001b[39;00m \u001b[39mtest_function\u001b[39m(x: \u001b[39mint\u001b[39m\u001b[39m=\u001b[39m\u001b[39m1\u001b[39m, y: \u001b[39mint\u001b[39m\u001b[39m=\u001b[39m\u001b[39m2\u001b[39m) \u001b[39m-\u001b[39m\u001b[39m>\u001b[39m \u001b[39mint\u001b[39m:\n\u001b[1;32m      2\u001b[0m     \u001b[39mprint\u001b[39m(\u001b[39mf\u001b[39m\u001b[39m\"\u001b[39m\u001b[39mHello, world! \u001b[39m\u001b[39m{\u001b[39;00mx\u001b[39m}\u001b[39;00m\u001b[39m \u001b[39m\u001b[39m{\u001b[39;00my\u001b[39m}\u001b[39;00m\u001b[39m\"\u001b[39m)\n\u001b[0;32m----> 4\u001b[0m test_function(x\u001b[39m=\u001b[39;49m\u001b[39m3\u001b[39;49m, y\u001b[39m=\u001b[39;49m\u001b[39m4\u001b[39;49m, z\u001b[39m=\u001b[39;49m\u001b[39m5\u001b[39;49m)\n",
      "\u001b[0;31mTypeError\u001b[0m: test_function() got an unexpected keyword argument 'z'"
     ]
    }
   ],
   "source": [
    "def test_function(x: int=1, y: int=2) -> int:\n",
    "    print(f\"Hello, world! {x} {y}\")\n",
    "\n",
    "test_function(x=3, y=4, z=5)"
   ]
  },
  {
   "cell_type": "code",
   "execution_count": 2,
   "metadata": {},
   "outputs": [
    {
     "name": "stdout",
     "output_type": "stream",
     "text": [
      "{'the_id': '{\"a\": 1, \"b\": 2}'}\n",
      "1\n"
     ]
    }
   ],
   "source": [
    "import json\n",
    "import os\n",
    "from datetime import datetime\n",
    "from pydantic import BaseSettings, Field, BaseModel\n",
    "from fastapi.encoders import jsonable_encoder\n",
    "\n",
    "class OtherModel(BaseModel):\n",
    "    a = 1\n",
    "    b = 2\n",
    "\n",
    "class Model(BaseSettings):\n",
    "    the_id: OtherModel = Field(\n",
    "        ...,\n",
    "        description=\"The ID of the document.\",\n",
    "        env=\"THE_ID\",\n",
    "    )\n",
    "\n",
    "    def dict(self, *args, **kwargs):\n",
    "        output = super().dict(*args, **kwargs)\n",
    "        for key, value in output.items():\n",
    "            if isinstance(value, dict):\n",
    "                output[key] = json.dumps(value)\n",
    "            if isinstance(value, datetime):\n",
    "                output[key] = value.isoformat()\n",
    "        return output\n",
    "\n",
    "json_obj = Model(the_id={\"a\": 1, \"b\": 2}).dict()\n",
    "print(json_obj)\n",
    "os.environ[\"THE_ID\"] = json_obj[\"the_id\"]\n",
    "print(Model().the_id.a)"
   ]
  },
  {
   "cell_type": "code",
   "execution_count": null,
   "metadata": {},
   "outputs": [],
   "source": []
  }
 ],
 "metadata": {
  "kernelspec": {
   "display_name": ".env",
   "language": "python",
   "name": "python3"
  },
  "language_info": {
   "codemirror_mode": {
    "name": "ipython",
    "version": 3
   },
   "file_extension": ".py",
   "mimetype": "text/x-python",
   "name": "python",
   "nbconvert_exporter": "python",
   "pygments_lexer": "ipython3",
   "version": "3.10.10"
  },
  "orig_nbformat": 4
 },
 "nbformat": 4,
 "nbformat_minor": 2
}
